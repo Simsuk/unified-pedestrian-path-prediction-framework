{
 "cells": [
  {
   "cell_type": "code",
   "execution_count": 32,
   "metadata": {},
   "outputs": [],
   "source": [
    "tensor = torch.arange(12 * 185 * 2).reshape(12, 185, 2)\n",
    "reshaped = tensor.flatten().view(185, 24)\n",
    "\n",
    "# Now reverse the reshape\n",
    "restored_tensor = reshaped.view(12, 185, 2)"
   ]
  },
  {
   "cell_type": "code",
   "execution_count": 33,
   "metadata": {},
   "outputs": [
    {
     "data": {
      "text/plain": [
       "torch.Size([185, 24])"
      ]
     },
     "execution_count": 33,
     "metadata": {},
     "output_type": "execute_result"
    }
   ],
   "source": [
    "reshaped.shape"
   ]
  },
  {
   "cell_type": "code",
   "execution_count": 29,
   "metadata": {},
   "outputs": [
    {
     "name": "stdout",
     "output_type": "stream",
     "text": [
      "tensor([[[-0.4316, -0.6352],\n",
      "         [-0.9048, -0.9134],\n",
      "         [ 0.2401,  0.0957],\n",
      "         [ 1.4674, -0.3444],\n",
      "         [ 0.4895, -0.5367]],\n",
      "\n",
      "        [[-0.4495,  1.0845],\n",
      "         [-0.9482,  1.0846],\n",
      "         [ 2.0148,  0.4340],\n",
      "         [ 0.7261,  0.8908],\n",
      "         [-0.8548,  1.5030]],\n",
      "\n",
      "        [[ 2.3909, -0.1651],\n",
      "         [ 0.0828,  0.1069],\n",
      "         [-1.4291, -1.1401],\n",
      "         [ 1.1533, -0.5935],\n",
      "         [-1.0427,  0.2420]],\n",
      "\n",
      "        [[-0.1336,  0.4190],\n",
      "         [-1.7070,  0.3842],\n",
      "         [ 1.7277, -1.0079],\n",
      "         [-0.8909,  0.2390],\n",
      "         [-0.2322, -1.1639]],\n",
      "\n",
      "        [[ 0.9683,  0.5249],\n",
      "         [-0.9901,  0.6834],\n",
      "         [-1.4758,  1.0990],\n",
      "         [ 0.0723,  0.7726],\n",
      "         [-0.0356, -0.4092]],\n",
      "\n",
      "        [[-0.0744,  1.9929],\n",
      "         [-1.4119,  0.2734],\n",
      "         [-1.8657, -1.3232],\n",
      "         [ 0.4634,  1.6392],\n",
      "         [ 0.7046,  1.2027]],\n",
      "\n",
      "        [[-0.7631, -0.0551],\n",
      "         [-1.1621, -0.8250],\n",
      "         [-0.5130,  0.6110],\n",
      "         [-0.8107,  1.8389],\n",
      "         [ 1.1352, -0.2767]],\n",
      "\n",
      "        [[ 1.8484,  0.9361],\n",
      "         [ 0.2004,  0.5222],\n",
      "         [-0.2594,  0.6790],\n",
      "         [ 0.2164, -2.4449],\n",
      "         [-0.8424,  0.2463]],\n",
      "\n",
      "        [[ 0.7122,  0.3170],\n",
      "         [-0.3110, -0.9028],\n",
      "         [-1.1752,  1.7844],\n",
      "         [ 0.3980, -0.9266],\n",
      "         [-1.5955,  0.8323]],\n",
      "\n",
      "        [[ 1.2875,  2.1311],\n",
      "         [-0.0242, -0.2049],\n",
      "         [ 1.2460,  0.3177],\n",
      "         [ 0.9888, -0.2220],\n",
      "         [-0.0213, -0.1242]],\n",
      "\n",
      "        [[-1.8966, -0.5102],\n",
      "         [ 0.3030, -0.5886],\n",
      "         [-0.6886,  2.0028],\n",
      "         [-0.4456,  0.9115],\n",
      "         [-0.1567, -1.3617]],\n",
      "\n",
      "        [[-0.8984,  0.6010],\n",
      "         [ 1.0258, -0.4656],\n",
      "         [-0.3573, -0.6400],\n",
      "         [-1.7628,  0.2888],\n",
      "         [-0.3947,  0.2820]]])\n",
      "tensor([[-0.4316, -0.6352, -0.4495,  1.0845,  2.3909, -0.1651, -0.1336,  0.4190,\n",
      "          0.9683,  0.5249, -0.0744,  1.9929, -0.7631, -0.0551,  1.8484,  0.9361,\n",
      "          0.7122,  0.3170,  1.2875,  2.1311, -1.8966, -0.5102, -0.8984,  0.6010],\n",
      "        [-0.9048, -0.9134, -0.9482,  1.0846,  0.0828,  0.1069, -1.7070,  0.3842,\n",
      "         -0.9901,  0.6834, -1.4119,  0.2734, -1.1621, -0.8250,  0.2004,  0.5222,\n",
      "         -0.3110, -0.9028, -0.0242, -0.2049,  0.3030, -0.5886,  1.0258, -0.4656],\n",
      "        [ 0.2401,  0.0957,  2.0148,  0.4340, -1.4291, -1.1401,  1.7277, -1.0079,\n",
      "         -1.4758,  1.0990, -1.8657, -1.3232, -0.5130,  0.6110, -0.2594,  0.6790,\n",
      "         -1.1752,  1.7844,  1.2460,  0.3177, -0.6886,  2.0028, -0.3573, -0.6400],\n",
      "        [ 1.4674, -0.3444,  0.7261,  0.8908,  1.1533, -0.5935, -0.8909,  0.2390,\n",
      "          0.0723,  0.7726,  0.4634,  1.6392, -0.8107,  1.8389,  0.2164, -2.4449,\n",
      "          0.3980, -0.9266,  0.9888, -0.2220, -0.4456,  0.9115, -1.7628,  0.2888],\n",
      "        [ 0.4895, -0.5367, -0.8548,  1.5030, -1.0427,  0.2420, -0.2322, -1.1639,\n",
      "         -0.0356, -0.4092,  0.7046,  1.2027,  1.1352, -0.2767, -0.8424,  0.2463,\n",
      "         -1.5955,  0.8323, -0.0213, -0.1242, -0.1567, -1.3617, -0.3947,  0.2820]])\n"
     ]
    }
   ],
   "source": [
    "import torch\n",
    "action_all_=torch.randn(12, 5, 2)\n",
    "print(action_all_)\n",
    "action_all_33=action_all_.reshape(-1, 2)\n",
    "# print(action_all_33)\n",
    "print(action_all_.permute(1, 0, 2).flatten(1, 2))"
   ]
  },
  {
   "cell_type": "code",
   "execution_count": 10,
   "metadata": {},
   "outputs": [
    {
     "name": "stdout",
     "output_type": "stream",
     "text": [
      "torch.Size([185, 12, 2])\n"
     ]
    },
    {
     "data": {
      "text/plain": [
       "torch.Size([2220, 2])"
      ]
     },
     "execution_count": 10,
     "metadata": {},
     "output_type": "execute_result"
    }
   ],
   "source": [
    "import torch\n",
    "action_all_=torch.randn(12, 185, 2)\n",
    "aha=action_all_.permute(1,0,2)\n",
    "print(aha.shape)\n",
    "aha.reshape(185*12,2).shape"
   ]
  },
  {
   "cell_type": "code",
   "execution_count": 14,
   "metadata": {},
   "outputs": [
    {
     "name": "stdout",
     "output_type": "stream",
     "text": [
      "Original tensor:\n",
      "tensor([[1, 2],\n",
      "        [3, 4],\n",
      "        [5, 6]])\n",
      "Reshaped tensor:\n",
      "tensor([[1, 2],\n",
      "        [3, 4],\n",
      "        [5, 6]])\n"
     ]
    }
   ],
   "source": [
    "x = torch.tensor([[1, 2], [3, 4], [5, 6]])\n",
    "print(\"Original tensor:\")\n",
    "print(x)\n",
    "\n",
    "# Flatten the tensor\n",
    "flattened_x = x.flatten()\n",
    "reshaped_x = flattened_x.reshape(3, 2)\n",
    "print(\"Reshaped tensor:\")\n",
    "print(reshaped_x)"
   ]
  },
  {
   "cell_type": "code",
   "execution_count": 13,
   "metadata": {},
   "outputs": [
    {
     "name": "stdout",
     "output_type": "stream",
     "text": [
      "False\n"
     ]
    }
   ],
   "source": [
    "import torch\n",
    "\n",
    "# Original tensor\n",
    "x = torch.randn(185, 12, 2)\n",
    "\n",
    "# Flatten dimensions 1 and 2\n",
    "flattened_x = x.permute(1,0,2).flatten(1, 2)\n",
    "\n",
    "# Reshape back to the original shape\n",
    "reshaped_x = flattened_x.reshape(185, 12, 2)\n",
    "# reshaped_x=reshaped_x.permute(1,0,2)\n",
    "# Check if the reshaped tensor is the same as the original\n",
    "print(torch.equal(x, reshaped_x))  # This should print True\n"
   ]
  },
  {
   "cell_type": "code",
   "execution_count": 6,
   "metadata": {},
   "outputs": [
    {
     "name": "stdout",
     "output_type": "stream",
     "text": [
      "A is equal to A_restored: True\n"
     ]
    }
   ],
   "source": [
    "import torch\n",
    "\n",
    "# Assuming A is your original tensor with shape (12, 185, 2)\n",
    "A = [torch.randn(185, 2) for i in range(12)]\n",
    "\n",
    "# Concatenating A along dim=0, which flattens the first two dimensions\n",
    "B = torch.cat(A, dim=0)  # This operation actually doesn't change anything because there's only one tensor\n",
    "# B = B.view(-1, 2)          # Reshape to flatten into shape (2220, 2)\n",
    "\n",
    "# To reverse the operation, reshape B back to the shape of A\n",
    "A_restored = B.view(12, 185, 2)\n",
    "identical = all(torch.equal(a, b) for a, b in zip(A, A_restored))\n",
    "# Check if the restored tensor is exactly the same as the original\n",
    "print(\"A is equal to A_restored:\", identical)"
   ]
  },
  {
   "cell_type": "code",
   "execution_count": 9,
   "metadata": {},
   "outputs": [
    {
     "name": "stdout",
     "output_type": "stream",
     "text": [
      "tensor([ 0.1880, -0.0449,  0.6468, -1.4552, -0.8197, -0.2678, -0.1753, -0.3379,\n",
      "         0.7678,  0.4359, -0.4040,  0.5942, -0.4646,  0.6009, -1.2351])\n",
      "tensor([[ 0.1880,  0.1431,  0.7899],\n",
      "        [-1.4552, -2.2749, -2.5427],\n",
      "        [-0.1753, -0.5133,  0.2545],\n",
      "        [ 0.4359,  0.0319,  0.6260],\n",
      "        [-0.4646,  0.1363, -1.0988]])\n"
     ]
    },
    {
     "data": {
      "text/plain": [
       "tensor([ 0.1880,  0.1431,  0.7899, -1.4552, -2.2749, -2.5427, -0.1753, -0.5133,\n",
       "         0.2545,  0.4359,  0.0319,  0.6260, -0.4646,  0.1363, -1.0988])"
      ]
     },
     "execution_count": 9,
     "metadata": {},
     "output_type": "execute_result"
    }
   ],
   "source": [
    "log_probs=torch.randn(15)\n",
    "print(log_probs)\n",
    "log_probs=torch.reshape(log_probs, (5,3))\n",
    "log_probs=log_probs.cumsum(dim=1)\n",
    "print(log_probs)\n",
    "log_probs=torch.reshape(log_probs, (15,))\n",
    "log_probs"
   ]
  },
  {
   "cell_type": "code",
   "execution_count": 3,
   "metadata": {},
   "outputs": [
    {
     "name": "stdout",
     "output_type": "stream",
     "text": [
      "10\n",
      "11253\n",
      "11524085\n",
      "11800664053\n"
     ]
    }
   ],
   "source": [
    "best_ade=10\n",
    "def finc():\n",
    "    global best_ade\n",
    "    print(best_ade)\n",
    "    for i in range(10):\n",
    "        best_ade += best_ade +i\n",
    "finc()\n",
    "finc()\n",
    "finc()\n",
    "finc()"
   ]
  },
  {
   "cell_type": "code",
   "execution_count": 9,
   "metadata": {},
   "outputs": [
    {
     "name": "stdout",
     "output_type": "stream",
     "text": [
      "Case 1 - Single Tensor Flattened Shape: torch.Size([6, 4])\n",
      "Case 2 - Concatenated Then Flattened Shape: torch.Size([6, 4])\n",
      "Are shapes equivalent? True\n"
     ]
    }
   ],
   "source": [
    "import torch\n",
    "\n",
    "# Case 1: Single tensor\n",
    "tensor = torch.randn(1, 3, 4)  # Example tensor with shape [2, 3, 4]\n",
    "tensor2=torch.cat((tensor,tensor), dim=0)\n",
    "flattened_tensor = tensor2.flatten(0,1)\n",
    "\n",
    "print(\"Case 1 - Single Tensor Flattened Shape:\", flattened_tensor.shape)\n",
    "\n",
    "# Case 2: Sequence of tensors that would form the same shape\n",
    "tensor_seq = [tensor, tensor]  # Each tensor in the sequence has shape [1, 3, 4]\n",
    "concatenated_then_flattened = torch.cat(tensor_seq, dim=0).flatten(0,1)\n",
    "\n",
    "print(\"Case 2 - Concatenated Then Flattened Shape:\", concatenated_then_flattened.shape)\n",
    "\n",
    "# Test equivalence\n",
    "# The flattened shapes should be the same if the tensors in tensor_seq collectively have the same shape as `tensor`\n",
    "# Note: This equivalence is in terms of shape; the actual values will differ due to random initialization\n",
    "print(\"Are vectors equivalent?\", flattened_tensor.shape == concatenated_then_flattened.shape)"
   ]
  },
  {
   "cell_type": "code",
   "execution_count": 8,
   "metadata": {},
   "outputs": [
    {
     "name": "stderr",
     "output_type": "stream",
     "text": [
      "/home/ssukup/miniconda3/envs/stgat/lib/python3.7/site-packages/tqdm/auto.py:21: TqdmWarning: IProgress not found. Please update jupyter and ipywidgets. See https://ipywidgets.readthedocs.io/en/stable/user_install.html\n",
      "  from .autonotebook import tqdm as notebook_tqdm\n"
     ]
    }
   ],
   "source": [
    "import torch\n",
    "torch.set_num_threads(32)"
   ]
  },
  {
   "cell_type": "code",
   "execution_count": 21,
   "metadata": {},
   "outputs": [
    {
     "data": {
      "text/plain": [
       "32"
      ]
     },
     "execution_count": 21,
     "metadata": {},
     "output_type": "execute_result"
    }
   ],
   "source": [
    "torch.get_num_threads()"
   ]
  },
  {
   "cell_type": "code",
   "execution_count": 23,
   "metadata": {},
   "outputs": [
    {
     "name": "stdout",
     "output_type": "stream",
     "text": [
      "Core 0: 1.0%\n",
      "Core 1: 0.0%\n",
      "Core 2: 1.0%\n",
      "Core 3: 1.0%\n",
      "Core 4: 87.0%\n",
      "Core 5: 0.0%\n",
      "Core 6: 0.0%\n",
      "Core 7: 0.0%\n",
      "Core 8: 0.0%\n",
      "Core 9: 0.0%\n",
      "Core 10: 0.0%\n",
      "Core 11: 0.0%\n",
      "Core 12: 0.0%\n",
      "Core 13: 0.0%\n",
      "Core 14: 0.0%\n",
      "Core 15: 0.0%\n",
      "Core 16: 0.0%\n",
      "Core 17: 0.0%\n",
      "Core 18: 0.0%\n",
      "Core 19: 0.0%\n",
      "Core 20: 14.0%\n",
      "Core 21: 0.0%\n",
      "Core 22: 0.0%\n",
      "Core 23: 1.0%\n",
      "Core 24: 0.0%\n",
      "Core 25: 0.0%\n",
      "Core 26: 0.0%\n",
      "Core 27: 0.0%\n",
      "Core 28: 0.0%\n",
      "Core 29: 0.0%\n",
      "Core 30: 0.0%\n",
      "Core 31: 0.0%\n"
     ]
    }
   ],
   "source": [
    "import psutil\n",
    "for i, percentage in enumerate(psutil.cpu_percent(percpu=True, interval=1)):\n",
    "    print(f\"Core {i}: {percentage}%\")"
   ]
  },
  {
   "cell_type": "code",
   "execution_count": 1,
   "metadata": {},
   "outputs": [
    {
     "name": "stdout",
     "output_type": "stream",
     "text": [
      "0\n"
     ]
    }
   ],
   "source": [
    "for i in range (1):\n",
    "    print(i)"
   ]
  },
  {
   "cell_type": "code",
   "execution_count": 11,
   "metadata": {},
   "outputs": [
    {
     "ename": "RuntimeError",
     "evalue": "Number of dimensions of repeat dims can not be smaller than number of dimensions of tensor",
     "output_type": "error",
     "traceback": [
      "\u001b[0;31m---------------------------------------------------------------------------\u001b[0m",
      "\u001b[0;31mRuntimeError\u001b[0m                              Traceback (most recent call last)",
      "\u001b[0;32m/tmp/ipykernel_1353354/844472565.py\u001b[0m in \u001b[0;36m<module>\u001b[0;34m\u001b[0m\n\u001b[1;32m      1\u001b[0m \u001b[0;32mimport\u001b[0m \u001b[0mtorch\u001b[0m\u001b[0;34m\u001b[0m\u001b[0;34m\u001b[0m\u001b[0m\n\u001b[1;32m      2\u001b[0m \u001b[0mx\u001b[0m \u001b[0;34m=\u001b[0m \u001b[0mtorch\u001b[0m\u001b[0;34m.\u001b[0m\u001b[0mtensor\u001b[0m\u001b[0;34m(\u001b[0m\u001b[0;34m[\u001b[0m\u001b[0;34m[\u001b[0m\u001b[0;36m1\u001b[0m\u001b[0;34m,\u001b[0m \u001b[0;36m2\u001b[0m\u001b[0;34m,\u001b[0m \u001b[0;36m3\u001b[0m\u001b[0;34m]\u001b[0m\u001b[0;34m,\u001b[0m\u001b[0;34m[\u001b[0m\u001b[0;36m1\u001b[0m\u001b[0;34m,\u001b[0m\u001b[0;36m2\u001b[0m\u001b[0;34m,\u001b[0m\u001b[0;36m3\u001b[0m\u001b[0;34m]\u001b[0m\u001b[0;34m]\u001b[0m\u001b[0;34m)\u001b[0m\u001b[0;34m\u001b[0m\u001b[0;34m\u001b[0m\u001b[0m\n\u001b[0;32m----> 3\u001b[0;31m \u001b[0mx\u001b[0m\u001b[0;34m.\u001b[0m\u001b[0mrepeat\u001b[0m\u001b[0;34m(\u001b[0m\u001b[0;36m4\u001b[0m\u001b[0;34m,\u001b[0m \u001b[0;34m)\u001b[0m\u001b[0;34m\u001b[0m\u001b[0;34m\u001b[0m\u001b[0m\n\u001b[0m",
      "\u001b[0;31mRuntimeError\u001b[0m: Number of dimensions of repeat dims can not be smaller than number of dimensions of tensor"
     ]
    }
   ],
   "source": [
    "import torch\n",
    "x = torch.tensor([[1, 2, 3],[1,2,3]])\n",
    "x.repeat((4, ))"
   ]
  },
  {
   "cell_type": "code",
   "execution_count": 5,
   "metadata": {},
   "outputs": [
    {
     "ename": "IndexError",
     "evalue": "Dimension out of range (expected to be in range of [-3, 2], but got 3)",
     "output_type": "error",
     "traceback": [
      "\u001b[0;31m---------------------------------------------------------------------------\u001b[0m",
      "\u001b[0;31mIndexError\u001b[0m                                Traceback (most recent call last)",
      "\u001b[0;32m/tmp/ipykernel_3031994/35733582.py\u001b[0m in \u001b[0;36m<module>\u001b[0;34m\u001b[0m\n\u001b[0;32m----> 1\u001b[0;31m \u001b[0mtorch\u001b[0m\u001b[0;34m.\u001b[0m\u001b[0mrandn\u001b[0m\u001b[0;34m(\u001b[0m\u001b[0;36m1\u001b[0m\u001b[0;34m,\u001b[0m \u001b[0;36m3\u001b[0m\u001b[0;34m,\u001b[0m \u001b[0;36m4\u001b[0m\u001b[0;34m)\u001b[0m\u001b[0;34m.\u001b[0m\u001b[0mflatten\u001b[0m\u001b[0;34m(\u001b[0m\u001b[0;36m0\u001b[0m\u001b[0;34m,\u001b[0m\u001b[0;36m3\u001b[0m\u001b[0;34m)\u001b[0m\u001b[0;34m.\u001b[0m\u001b[0mshape\u001b[0m\u001b[0;34m\u001b[0m\u001b[0;34m\u001b[0m\u001b[0m\n\u001b[0m",
      "\u001b[0;31mIndexError\u001b[0m: Dimension out of range (expected to be in range of [-3, 2], but got 3)"
     ]
    }
   ],
   "source": [
    "torch.randn(1, 3, 4).flatten(0,2).shape"
   ]
  },
  {
   "cell_type": "code",
   "execution_count": 3,
   "metadata": {},
   "outputs": [
    {
     "name": "stderr",
     "output_type": "stream",
     "text": [
      "/home/ssukup/miniconda3/envs/stgat/lib/python3.7/site-packages/tqdm/auto.py:21: TqdmWarning: IProgress not found. Please update jupyter and ipywidgets. See https://ipywidgets.readthedocs.io/en/stable/user_install.html\n",
      "  from .autonotebook import tqdm as notebook_tqdm\n"
     ]
    }
   ],
   "source": [
    "import torch"
   ]
  },
  {
   "cell_type": "code",
   "execution_count": 7,
   "metadata": {},
   "outputs": [
    {
     "data": {
      "text/plain": [
       "tensor([1., 2., 3., 4., 5., 6., 7., 8.])"
      ]
     },
     "execution_count": 7,
     "metadata": {},
     "output_type": "execute_result"
    }
   ],
   "source": [
    "log_probs=torch.Tensor([1,2,3,4,5,6,7,8])\n",
    "log_probs"
   ]
  },
  {
   "cell_type": "code",
   "execution_count": 23,
   "metadata": {},
   "outputs": [
    {
     "data": {
      "text/plain": [
       "tensor([1, 1, 1, 1])"
      ]
     },
     "execution_count": 23,
     "metadata": {},
     "output_type": "execute_result"
    }
   ],
   "source": [
    "rewards=[torch.tensor([1]),torch.tensor([1]),torch.tensor([1]),torch.tensor([1])]\n",
    "b=torch.cat(rewards, dim=0)\n",
    "b"
   ]
  },
  {
   "cell_type": "code",
   "execution_count": 70,
   "metadata": {},
   "outputs": [
    {
     "data": {
      "text/plain": [
       "tensor([], size=(0, 25))"
      ]
     },
     "execution_count": 70,
     "metadata": {},
     "output_type": "execute_result"
    }
   ],
   "source": [
    "all_data_tensor = torch.empty((0, 25), dtype=torch.float32)\n",
    "all_data_tensor"
   ]
  },
  {
   "cell_type": "code",
   "execution_count": 69,
   "metadata": {},
   "outputs": [
    {
     "data": {
      "text/plain": [
       "tensor([-1.9005e-36])"
      ]
     },
     "execution_count": 69,
     "metadata": {},
     "output_type": "execute_result"
    }
   ],
   "source": [
    "a=torch.empty(1)\n",
    "a"
   ]
  },
  {
   "cell_type": "code",
   "execution_count": 61,
   "metadata": {},
   "outputs": [
    {
     "data": {
      "text/plain": [
       "tensor([1.])"
      ]
     },
     "execution_count": 61,
     "metadata": {},
     "output_type": "execute_result"
    }
   ],
   "source": [
    "a=a+1\n",
    "a.reshape([1])"
   ]
  },
  {
   "cell_type": "code",
   "execution_count": 4,
   "metadata": {},
   "outputs": [],
   "source": [
    "a=torch.tensor([0.5292, 0.5272, 0.5750, 0.5357, 0.5145, 0.5318, 0.5368, 0.5093, 0.4998,\n",
    "        0.4895, 0.4824, 0.4275, 0.4477, 0.2645, 0.3094, 0.2610, 0.2635, 0.2786,\n",
    "        0.2872, 0.2559, 0.2783, 0.3031, 0.2929, 0.2969, 0.3170, 0.2687, 0.3144,\n",
    "        0.3153, 0.3299, 0.1654, 0.2031, 0.1840, 0.2236, 0.2154, 0.2316, 0.2699,\n",
    "        0.2481, 0.2752, 0.2808, 0.2893, 0.2649, 0.3723, 0.3923, 0.4653, 0.4375,\n",
    "        0.3743, 0.3682, 0.3790, 0.2953, 0.3283, 0.3126, 0.3625, 0.2528, 0.2860,\n",
    "        0.1701, 0.2017, 0.1957, 0.2135, 0.1673, 0.1927, 0.1581, 0.1736, 0.1537,\n",
    "        0.1578])\n",
    "b=torch.tensor([-31.4396,  12.1054, -19.3717, -61.1767,  16.2774,   8.6281,  23.7225,\n",
    "        -79.7146,   8.9092,  45.9172,  -4.5268, -91.6369,  27.8417,  50.4184,\n",
    "          9.8164,  37.5233,  26.4580,  35.9668,  19.6348, -13.9678, -27.1077,\n",
    "         -7.2022,  54.5566,  31.6552,  71.7911,   7.1745,  42.3522,   2.5435,\n",
    "         30.3351,   9.4671,  24.3187,  19.4775,   6.5775,  26.6640,   3.5931,\n",
    "         36.3142,  26.8261, -20.4469,  14.5940, -10.9031,  18.0776,  34.7328,\n",
    "         38.0984,  46.2268,  22.5538, -27.9273,  25.2599, -18.9143,  16.5447,\n",
    "        -38.6526, -73.4064,  44.6901,  72.9768,   1.2040,  19.1314, -14.3778,\n",
    "         31.1580,  11.4526,  59.0418, -59.7119,   7.8531,   1.6888, -27.6418,\n",
    "         50.7246])"
   ]
  },
  {
   "cell_type": "code",
   "execution_count": 6,
   "metadata": {},
   "outputs": [
    {
     "data": {
      "text/plain": [
       "tensor(2.2044)"
      ]
     },
     "execution_count": 6,
     "metadata": {},
     "output_type": "execute_result"
    }
   ],
   "source": [
    "(a*b).mean()"
   ]
  },
  {
   "cell_type": "code",
   "execution_count": 83,
   "metadata": {},
   "outputs": [],
   "source": [
    "list_=torch.tensor([torch.tensor([1])]*4)"
   ]
  },
  {
   "cell_type": "code",
   "execution_count": 84,
   "metadata": {},
   "outputs": [
    {
     "data": {
      "text/plain": [
       "tensor([1, 1, 1, 1])"
      ]
     },
     "execution_count": 84,
     "metadata": {},
     "output_type": "execute_result"
    }
   ],
   "source": [
    "list_*list_"
   ]
  },
  {
   "cell_type": "code",
   "execution_count": 78,
   "metadata": {},
   "outputs": [
    {
     "data": {
      "text/plain": [
       "tensor([-1.9005e-36,  1.0000e+00,  1.0000e+00,  1.0000e+00])"
      ]
     },
     "execution_count": 78,
     "metadata": {},
     "output_type": "execute_result"
    }
   ],
   "source": [
    "a=torch.cat((a, torch.tensor([1])), 0)\n",
    "a"
   ]
  },
  {
   "cell_type": "code",
   "execution_count": null,
   "metadata": {},
   "outputs": [],
   "source": [
    "list"
   ]
  },
  {
   "cell_type": "code",
   "execution_count": 6,
   "metadata": {},
   "outputs": [
    {
     "data": {
      "text/plain": [
       "tensor(6.)"
      ]
     },
     "execution_count": 6,
     "metadata": {},
     "output_type": "execute_result"
    }
   ],
   "source": [
    "_l2_loss_rel = torch.narrow(log_probs, 0, 0, 3 - 0).sum()\n",
    "_l2_loss_rel"
   ]
  }
 ],
 "metadata": {
  "kernelspec": {
   "display_name": "stgat",
   "language": "python",
   "name": "python3"
  },
  "language_info": {
   "codemirror_mode": {
    "name": "ipython",
    "version": 3
   },
   "file_extension": ".py",
   "mimetype": "text/x-python",
   "name": "python",
   "nbconvert_exporter": "python",
   "pygments_lexer": "ipython3",
   "version": "3.7.12"
  }
 },
 "nbformat": 4,
 "nbformat_minor": 2
}
